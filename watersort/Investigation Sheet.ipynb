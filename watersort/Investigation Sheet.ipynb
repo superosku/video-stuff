{
 "cells": [
  {
   "cell_type": "code",
   "execution_count": 1,
   "id": "1a8863ca-b337-493f-91cd-7e38de615956",
   "metadata": {},
   "outputs": [],
   "source": [
    "import numpy as np\n",
    "from matplotlib import pyplot as plt\n",
    "\n",
    "from watersort.helpers import WaterPuzzleSolver, WaterPuzzleState"
   ]
  },
  {
   "cell_type": "code",
   "execution_count": 63,
   "id": "5592fd3f-a6e3-4baf-803a-aba7cf8a59f0",
   "metadata": {},
   "outputs": [],
   "source": [
    "def get_winnable_nodes(solver):\n",
    "    winning_node = [e for e in solver.nodes if all(len(set(f)) == 1 for f in e)][0]\n",
    "    \n",
    "    nodes_that_can_win = [winning_node]\n",
    "    \n",
    "    edges_by_e2 = {}\n",
    "    for e1, e2 in solver.edges:\n",
    "        if e2 not in edges_by_e2:\n",
    "            edges_by_e2[e2] = set()\n",
    "        edges_by_e2[e2].add(e1)\n",
    "    \n",
    "    i = 0\n",
    "    while i < len(nodes_that_can_win):\n",
    "        node = nodes_that_can_win[i]\n",
    "        #new_nodes = [e1 for e1, e2 in solver.edges if e2 == node]\n",
    "        for node in edges_by_e2.get(node, []):\n",
    "            if node not in nodes_that_can_win:\n",
    "                nodes_that_can_win.append(node)\n",
    "        \n",
    "        i += 1\n",
    "\n",
    "    return i"
   ]
  },
  {
   "cell_type": "code",
   "execution_count": 6,
   "id": "f71a62d7-9f7f-4c63-8328-3d1633513113",
   "metadata": {},
   "outputs": [
    {
     "name": "stdout",
     "output_type": "stream",
     "text": [
      "COLORS: 2\n",
      "[(0, 0, 0), (6, 22, 54), (4, 13, 31), (3, 7, 15), (5, 31, 88), (4, 22, 56), (4, 18, 43), (4, 18, 44), (6, 22, 54), (6, 22, 54), (5, 33, 97), (4, 16, 40), (4, 16, 40), (7, 40, 121), (3, 7, 15), (4, 18, 44), (0, 0, 0), (0, 0, 0), (4, 22, 56), (5, 37, 109), (5, 32, 96), (7, 67, 221), (3, 7, 15), (0, 0, 0), (4, 13, 31), (4, 13, 31), (6, 38, 112), (4, 22, 56), (3, 7, 15), (4, 13, 31), (5, 31, 88), (4, 18, 44), (6, 50, 158), (3, 7, 15), (4, 22, 56), (4, 13, 31), (5, 31, 85), (3, 7, 15), (3, 7, 15), (7, 40, 121), (3, 7, 15), (4, 18, 43), (5, 33, 93), (5, 37, 109), (5, 33, 97), (5, 32, 96), (7, 67, 221), (5, 32, 96), (4, 22, 56), (4, 16, 40)]\n",
      "COLORS: 3\n",
      "[(6, 57, 167), (8, 131, 402), (3, 6, 12), (7, 103, 296), (9, 152, 461), (8, 182, 578), (6, 57, 169), (9, 131, 404), (8, 111, 338), (7, 110, 330), (10, 213, 782), (8, 82, 242), (7, 119, 385), (10, 188, 607), (10, 289, 973), (10, 217, 716), (9, 153, 478), (8, 139, 434), (10, 128, 382), (8, 181, 594), (8, 120, 370), (7, 111, 335), (9, 146, 451), (7, 95, 291), (9, 120, 360), (6, 68, 187), (9, 219, 734), (9, 221, 731), (5, 36, 104), (10, 298, 1008), (5, 36, 99), (7, 88, 270), (8, 93, 274), (7, 86, 262), (9, 220, 721), (9, 179, 580), (10, 305, 1049), (7, 71, 207), (8, 148, 457), (9, 156, 481), (8, 112, 337), (7, 104, 308), (9, 198, 634), (7, 93, 266), (6, 62, 180), (9, 215, 686), (8, 120, 390), (7, 74, 219), (9, 78, 221), (11, 265, 940)]\n",
      "COLORS: 4\n",
      "[(12, 535, 1650), (9, 289, 1026), (13, 661, 2054), (10, 190, 553), (9, 277, 811), (8, 179, 515), (10, 402, 1270), (11, 451, 1402), (12, 461, 1419), (12, 455, 1588), (12, 503, 1583), (11, 580, 1931), (14, 1004, 3370), (11, 501, 1596), (9, 282, 954), (12, 468, 1444), (11, 397, 1215), (14, 662, 2240), (10, 196, 677), (11, 281, 870), (14, 544, 1652), (9, 169, 479), (11, 358, 1089), (12, 443, 1342), (14, 497, 1515), (12, 568, 2235), (13, 534, 1681), (12, 752, 2527), (10, 315, 1028), (10, 240, 792), (12, 460, 1709), (12, 474, 1473), (8, 183, 539), (10, 232, 698), (9, 278, 847), (11, 338, 954), (7, 129, 380), (10, 393, 1455), (12, 732, 2365), (12, 735, 2399), (10, 359, 1207), (11, 456, 1487), (14, 925, 3056), (12, 490, 1564), (13, 501, 1513), (11, 333, 1101), (10, 360, 1033), (13, 332, 939), (12, 519, 1601), (11, 390, 1185)]\n",
      "COLORS: 5\n",
      "[(16, 1836, 5901), (14, 1097, 3455), (15, 1357, 4143), (13, 1049, 3261), (15, 1867, 5919), (12, 668, 1908), (13, 758, 2424), (17, 1931, 6978), (12, 446, 1360), (15, 1780, 5833), (12, 706, 2190), (11, 461, 1308), (14, 785, 2479), (14, 1506, 4632), (15, 1223, 3931), (14, 1186, 3908), (13, 687, 2305), (16, 1122, 3352), (12, 915, 2938), (14, 1068, 3282), (17, 2413, 7581), (13, 1157, 3584), (15, 1255, 4004), (16, 995, 2809), (13, 1052, 3313), (15, 985, 3001), (13, 541, 1527), (16, 1121, 3233), (14, 999, 2973), (13, 477, 1376), (16, 1605, 4834), (14, 1029, 3125), (14, 824, 2431), (15, 1235, 4037), (14, 1113, 3330), (14, 893, 2683), (14, 1073, 3477), (13, 655, 1906), (18, 2315, 7078), (15, 1182, 3492), (16, 1462, 4732), (14, 1147, 3689), (16, 1424, 5080), (17, 2187, 7536), (14, 1183, 3752), (16, 1426, 4363), (15, 824, 2337), (16, 1647, 5079), (16, 2689, 8710), (12, 466, 1598)]\n",
      "COLORS: 6\n",
      "[(19, 3567, 13212), (15, 1812, 5714), (18, 2977, 9690), (17, 3247, 11241), (17, 2076, 6093), (20, 4696, 15251), (16, 1590, 4807), (19, 4540, 13862), (17, 1635, 4732), (18, 2368, 6750), (18, 2947, 8854), (20, 4784, 14794), (17, 2786, 8345), (18, 2875, 9858), (19, 3216, 9620), (20, 2989, 8652), (19, 3138, 10650), (12, 647, 1863), (19, 2598, 7134), (16, 1829, 6179), (18, 4202, 12907), (15, 1317, 3719), (16, 1631, 5348), (15, 1283, 3952), (18, 2705, 8288), (19, 3634, 10911), (19, 3852, 11525), (19, 3298, 10294), (18, 3777, 12229), (16, 1460, 4281), (18, 2958, 10178), (17, 1402, 4140), (17, 1971, 5566), (18, 2476, 7426), (18, 3799, 11572), (16, 2024, 5975), (20, 3138, 11721), (19, 2436, 7189), (13, 912, 2896), (20, 4203, 14106), (17, 2595, 7866), (19, 3477, 10202), (17, 2014, 5404), (19, 2981, 9043), (17, 2144, 6627), (20, 4024, 14254), (18, 2149, 6863), (16, 2272, 8393), (15, 1089, 3377), (18, 1240, 3500)]\n",
      "COLORS: 7\n",
      "[(22, 8288, 23295), (19, 3315, 9657), (22, 7136, 20971), (20, 5066, 15356), (18, 2818, 8733), (21, 6158, 17251), (20, 5648, 16834), (19, 3558, 10692), (20, 2670, 7488), (21, 5107, 17336), (20, 3482, 9832), (24, 8915, 26300), (23, 7094, 20122), (23, 6313, 19580), (19, 3911, 11171), (21, 6829, 24885), (21, 2328, 6466), (23, 3990, 12532), (21, 7013, 24198), (23, 3382, 9213), (24, 5724, 17897), (23, 7860, 26677), (19, 6193, 20985), (21, 3953, 13519), (19, 4420, 13810), (19, 2724, 7609), (19, 3166, 8868), (22, 7277, 21783), (20, 4161, 13464), (19, 2816, 7885), (18, 5499, 18463), (22, 5755, 19307), (19, 6758, 21291), (23, 9218, 25745), (20, 4631, 13388), (20, 7784, 25080), (21, 5429, 18050), (21, 5827, 17914), (21, 8112, 28510), (22, 6917, 26091), (17, 2640, 9065), (23, 7983, 26665), (20, 4235, 14237), (18, 1972, 5505), (21, 3570, 11298), (19, 3507, 11135), (19, 3493, 10527), (21, 4519, 12733), (22, 5117, 17971), (20, 6059, 21691)]\n",
      "COLORS: 8\n",
      "[(27, 18792, 56625), (26, 22661, 75857), (25, 17301, 56080), (23, 6976, 22519), (25, 11365, 37826), (27, 10969, 29805), (25, 9702, 29749), (24, 11025, 29153), (25, 8812, 26953), (28, 5446, 15911), (25, 11503, 33540), (26, 14868, 53267), (24, 4780, 14827), (24, 8198, 22705), (28, 13275, 38593), (26, 6655, 19800), (26, 9444, 24463), (25, 9192, 32612), (25, 8923, 26797), (27, 12247, 39994), (26, 21110, 72918), (24, 14822, 45350), (25, 8478, 24218), (26, 3096, 7672), (24, 14787, 43097), (24, 8295, 25049), (24, 7097, 21139), (24, 10890, 36047), (26, 14079, 47524), (24, 9572, 27551), (23, 4088, 11404), (23, 9306, 29301), (22, 7439, 25118), (26, 10737, 32726), (26, 10619, 29295), (25, 11707, 37417), (23, 6858, 21905), (23, 5264, 15121), (25, 3534, 9600), (26, 11784, 35637), (25, 12850, 38238), (23, 17231, 60568), (26, 11830, 33114), (26, 10415, 30473), (23, 9182, 24484), (24, 6992, 19676), (23, 9326, 25861), (25, 7405, 22250), (27, 16069, 49825), (24, 10170, 32091)]\n",
      "COLORS: 9\n"
     ]
    },
    {
     "ename": "KeyboardInterrupt",
     "evalue": "",
     "output_type": "error",
     "traceback": [
      "\u001b[0;31m---------------------------------------------------------------------------\u001b[0m",
      "\u001b[0;31mKeyboardInterrupt\u001b[0m                         Traceback (most recent call last)",
      "Cell \u001b[0;32mIn[6], line 8\u001b[0m\n\u001b[1;32m      6\u001b[0m     initial_state \u001b[38;5;241m=\u001b[39m WaterPuzzleState\u001b[38;5;241m.\u001b[39mnew_random(num_colors\u001b[38;5;241m=\u001b[39mnum_colors)\n\u001b[1;32m      7\u001b[0m     solver \u001b[38;5;241m=\u001b[39m WaterPuzzleSolver(initial_state)\n\u001b[0;32m----> 8\u001b[0m     \u001b[43msolver\u001b[49m\u001b[38;5;241;43m.\u001b[39;49m\u001b[43msolve\u001b[49m\u001b[43m(\u001b[49m\u001b[43m)\u001b[49m\n\u001b[1;32m      9\u001b[0m     color_results\u001b[38;5;241m.\u001b[39mappend((\n\u001b[1;32m     10\u001b[0m         \u001b[38;5;28mlen\u001b[39m(solver\u001b[38;5;241m.\u001b[39msolve_instructions),\n\u001b[1;32m     11\u001b[0m         \u001b[38;5;28mlen\u001b[39m(solver\u001b[38;5;241m.\u001b[39mnodes),\n\u001b[1;32m     12\u001b[0m         \u001b[38;5;28mlen\u001b[39m(solver\u001b[38;5;241m.\u001b[39medges),\n\u001b[1;32m     13\u001b[0m     ))\n\u001b[1;32m     14\u001b[0m \u001b[38;5;28mprint\u001b[39m(color_results)\n",
      "File \u001b[0;32m~/omakoodi/manimvideot/watersort/helpers.py:160\u001b[0m, in \u001b[0;36mWaterPuzzleSolver.solve\u001b[0;34m(self)\u001b[0m\n\u001b[1;32m    158\u001b[0m \u001b[38;5;28;01mif\u001b[39;00m current_state\u001b[38;5;241m.\u001b[39mis_solved():\n\u001b[1;32m    159\u001b[0m     solved_state \u001b[38;5;241m=\u001b[39m current_state\n\u001b[0;32m--> 160\u001b[0m \u001b[38;5;28;01mfor\u001b[39;00m from_to, option \u001b[38;5;129;01min\u001b[39;00m \u001b[43mcurrent_state\u001b[49m\u001b[38;5;241;43m.\u001b[39;49m\u001b[43mpossible_options\u001b[49m\u001b[43m(\u001b[49m\u001b[43m)\u001b[49m:\n\u001b[1;32m    161\u001b[0m     \u001b[38;5;28mself\u001b[39m\u001b[38;5;241m.\u001b[39medges\u001b[38;5;241m.\u001b[39madd((current_state\u001b[38;5;241m.\u001b[39mhashable(), option\u001b[38;5;241m.\u001b[39mhashable()))\n\u001b[1;32m    162\u001b[0m     \u001b[38;5;28;01mif\u001b[39;00m option\u001b[38;5;241m.\u001b[39mhashable() \u001b[38;5;129;01mnot\u001b[39;00m \u001b[38;5;129;01min\u001b[39;00m visited:\n",
      "File \u001b[0;32m~/omakoodi/manimvideot/watersort/helpers.py:63\u001b[0m, in \u001b[0;36mWaterPuzzleState.possible_options\u001b[0;34m(self)\u001b[0m\n\u001b[1;32m     60\u001b[0m pour_to \u001b[38;5;241m=\u001b[39m \u001b[38;5;28mself\u001b[39m\u001b[38;5;241m.\u001b[39mpipes[j]\n\u001b[1;32m     62\u001b[0m \u001b[38;5;66;03m# Can not pour from empty\u001b[39;00m\n\u001b[0;32m---> 63\u001b[0m \u001b[38;5;28;01mif\u001b[39;00m \u001b[38;5;28;43mall\u001b[39;49m\u001b[43m(\u001b[49m\u001b[43mc\u001b[49m\u001b[43m \u001b[49m\u001b[38;5;241;43m==\u001b[39;49m\u001b[43m \u001b[49m\u001b[38;5;241;43m0\u001b[39;49m\u001b[43m \u001b[49m\u001b[38;5;28;43;01mfor\u001b[39;49;00m\u001b[43m \u001b[49m\u001b[43mc\u001b[49m\u001b[43m \u001b[49m\u001b[38;5;129;43;01min\u001b[39;49;00m\u001b[43m \u001b[49m\u001b[43mpour_from\u001b[49m\u001b[43m)\u001b[49m:\n\u001b[1;32m     64\u001b[0m     \u001b[38;5;28;01mcontinue\u001b[39;00m\n\u001b[1;32m     65\u001b[0m \u001b[38;5;66;03m# Can not pour to full\u001b[39;00m\n",
      "File \u001b[0;32m~/omakoodi/manimvideot/watersort/helpers.py:63\u001b[0m, in \u001b[0;36m<genexpr>\u001b[0;34m(.0)\u001b[0m\n\u001b[1;32m     60\u001b[0m pour_to \u001b[38;5;241m=\u001b[39m \u001b[38;5;28mself\u001b[39m\u001b[38;5;241m.\u001b[39mpipes[j]\n\u001b[1;32m     62\u001b[0m \u001b[38;5;66;03m# Can not pour from empty\u001b[39;00m\n\u001b[0;32m---> 63\u001b[0m \u001b[38;5;28;01mif\u001b[39;00m \u001b[38;5;28mall\u001b[39m(c \u001b[38;5;241m==\u001b[39m \u001b[38;5;241m0\u001b[39m \u001b[38;5;28;01mfor\u001b[39;00m c \u001b[38;5;129;01min\u001b[39;00m pour_from):\n\u001b[1;32m     64\u001b[0m     \u001b[38;5;28;01mcontinue\u001b[39;00m\n\u001b[1;32m     65\u001b[0m \u001b[38;5;66;03m# Can not pour to full\u001b[39;00m\n",
      "\u001b[0;31mKeyboardInterrupt\u001b[0m: "
     ]
    }
   ],
   "source": [
    "all_results = []\n",
    "for num_colors in range(2, 10):\n",
    "    print(\"COLORS:\", num_colors)\n",
    "    color_results = []\n",
    "    for i in range(50):\n",
    "        initial_state = WaterPuzzleState.new_random(num_colors=num_colors)\n",
    "        solver = WaterPuzzleSolver(initial_state)\n",
    "        solver.solve()\n",
    "        color_results.append((\n",
    "            len(solver.solve_instructions),\n",
    "            len(solver.nodes),\n",
    "            len(solver.edges),\n",
    "        ))\n",
    "    print(color_results)\n",
    "    all_results.append(color_results)\n",
    "pass"
   ]
  },
  {
   "cell_type": "code",
   "execution_count": 24,
   "id": "c4c2a09b-164a-4284-b05f-e6f8a47a6884",
   "metadata": {},
   "outputs": [
    {
     "data": {
      "text/plain": [
       "[<matplotlib.lines.Line2D at 0x30ba5f890>]"
      ]
     },
     "execution_count": 24,
     "metadata": {},
     "output_type": "execute_result"
    },
    {
     "data": {
      "image/png": "[encoded data removed]",
      "text/plain": [
       "<Figure size 640x480 with 1 Axes>"
      ]
     },
     "metadata": {},
     "output_type": "display_data"
    }
   ],
   "source": [
    "plt.plot(\n",
    "    np.mean(np.array(all_results)[:,:,2], axis=1) /\n",
    "    np.mean(np.array(all_results)[:,:,1], axis=1)\n",
    ")"
   ]
  },
  {
   "cell_type": "code",
   "execution_count": 89,
   "id": "ec985485-ab38-4874-8bdf-875a6a0d5212",
   "metadata": {},
   "outputs": [
    {
     "name": "stdout",
     "output_type": "stream",
     "text": [
      "0.8878802357063227\n",
      "0.8235956205873325\n",
      "0.9175126903553299\n",
      "0.823432827068551\n",
      "0.8636957231472413\n",
      "0.9129863567458312\n",
      "0.9699702407791505\n",
      "0.8702397743300423\n",
      "0.8759371221281741\n",
      "0.9300217803695637\n",
      "0.9360707517372079\n"
     ]
    },
    {
     "ename": "KeyboardInterrupt",
     "evalue": "",
     "output_type": "error",
     "traceback": [
      "\u001b[0;31m---------------------------------------------------------------------------\u001b[0m",
      "\u001b[0;31mKeyboardInterrupt\u001b[0m                         Traceback (most recent call last)",
      "Cell \u001b[0;32mIn[89], line 4\u001b[0m\n\u001b[1;32m      2\u001b[0m initial_state \u001b[38;5;241m=\u001b[39m WaterPuzzleState\u001b[38;5;241m.\u001b[39mnew_random(num_colors\u001b[38;5;241m=\u001b[39m\u001b[38;5;241m8\u001b[39m)\n\u001b[1;32m      3\u001b[0m solver \u001b[38;5;241m=\u001b[39m WaterPuzzleSolver(initial_state)\n\u001b[0;32m----> 4\u001b[0m \u001b[43msolver\u001b[49m\u001b[38;5;241;43m.\u001b[39;49m\u001b[43msolve\u001b[49m\u001b[43m(\u001b[49m\u001b[43m)\u001b[49m\n\u001b[1;32m      5\u001b[0m \u001b[38;5;28mprint\u001b[39m(get_winnable_nodes(solver) \u001b[38;5;241m/\u001b[39m \u001b[38;5;28mlen\u001b[39m(solver\u001b[38;5;241m.\u001b[39mnodes))\n",
      "File \u001b[0;32m~/omakoodi/manimvideot/watersort/helpers.py:160\u001b[0m, in \u001b[0;36mWaterPuzzleSolver.solve\u001b[0;34m(self)\u001b[0m\n\u001b[1;32m    158\u001b[0m \u001b[38;5;28;01mif\u001b[39;00m current_state\u001b[38;5;241m.\u001b[39mis_solved():\n\u001b[1;32m    159\u001b[0m     solved_state \u001b[38;5;241m=\u001b[39m current_state\n\u001b[0;32m--> 160\u001b[0m \u001b[38;5;28;01mfor\u001b[39;00m from_to, option \u001b[38;5;129;01min\u001b[39;00m \u001b[43mcurrent_state\u001b[49m\u001b[38;5;241;43m.\u001b[39;49m\u001b[43mpossible_options\u001b[49m\u001b[43m(\u001b[49m\u001b[43m)\u001b[49m:\n\u001b[1;32m    161\u001b[0m     \u001b[38;5;28mself\u001b[39m\u001b[38;5;241m.\u001b[39medges\u001b[38;5;241m.\u001b[39madd((current_state\u001b[38;5;241m.\u001b[39mhashable(), option\u001b[38;5;241m.\u001b[39mhashable()))\n\u001b[1;32m    162\u001b[0m     \u001b[38;5;28;01mif\u001b[39;00m option\u001b[38;5;241m.\u001b[39mhashable() \u001b[38;5;129;01mnot\u001b[39;00m \u001b[38;5;129;01min\u001b[39;00m visited:\n",
      "File \u001b[0;32m~/omakoodi/manimvideot/watersort/helpers.py:63\u001b[0m, in \u001b[0;36mWaterPuzzleState.possible_options\u001b[0;34m(self)\u001b[0m\n\u001b[1;32m     60\u001b[0m pour_to \u001b[38;5;241m=\u001b[39m \u001b[38;5;28mself\u001b[39m\u001b[38;5;241m.\u001b[39mpipes[j]\n\u001b[1;32m     62\u001b[0m \u001b[38;5;66;03m# Can not pour from empty\u001b[39;00m\n\u001b[0;32m---> 63\u001b[0m \u001b[38;5;28;01mif\u001b[39;00m \u001b[38;5;28;43mall\u001b[39;49m\u001b[43m(\u001b[49m\u001b[43mc\u001b[49m\u001b[43m \u001b[49m\u001b[38;5;241;43m==\u001b[39;49m\u001b[43m \u001b[49m\u001b[38;5;241;43m0\u001b[39;49m\u001b[43m \u001b[49m\u001b[38;5;28;43;01mfor\u001b[39;49;00m\u001b[43m \u001b[49m\u001b[43mc\u001b[49m\u001b[43m \u001b[49m\u001b[38;5;129;43;01min\u001b[39;49;00m\u001b[43m \u001b[49m\u001b[43mpour_from\u001b[49m\u001b[43m)\u001b[49m:\n\u001b[1;32m     64\u001b[0m     \u001b[38;5;28;01mcontinue\u001b[39;00m\n\u001b[1;32m     65\u001b[0m \u001b[38;5;66;03m# Can not pour to full\u001b[39;00m\n",
      "\u001b[0;31mKeyboardInterrupt\u001b[0m: "
     ]
    }
   ],
   "source": [
    "for i in range(20):\n",
    "    initial_state = WaterPuzzleState.new_random(num_colors=8)\n",
    "    solver = WaterPuzzleSolver(initial_state)\n",
    "    solver.solve()\n",
    "    print(get_winnable_nodes(solver) / len(solver.nodes))"
   ]
  },
  {
   "cell_type": "code",
   "execution_count": null,
   "id": "3c751983-b711-4757-87c8-e2ad794cfd06",
   "metadata": {},
   "outputs": [
    {
     "name": "stdout",
     "output_type": "stream",
     "text": [
      "0.8684332598863505\n",
      "0.5457433290978398\n",
      "0.8715723786098205\n",
      "0.793265503875969\n",
      "0.7204866041844173\n",
      "0.7788691724869814\n",
      "0.7366111756355659\n",
      "0.7082136703044227\n",
      "0.7705373288555929\n",
      "0.8628192167377258\n",
      "0.7841813359054738\n",
      "0.8696319018404908\n",
      "0.7878019683865195\n",
      "0.7345949951547626\n",
      "0.7175856929955291\n"
     ]
    }
   ],
   "source": [
    "for i in range(20):\n",
    "    initial_state = WaterPuzzleState.new_random(num_colors=10)\n",
    "    solver = WaterPuzzleSolver(initial_state)\n",
    "    solver.solve()\n",
    "    print(get_winnable_nodes(solver) / len(solver.nodes))"
   ]
  }
 ],
 "metadata": {
  "kernelspec": {
   "display_name": "Python 3 (ipykernel)",
   "language": "python",
   "name": "python3"
  },
  "language_info": {
   "codemirror_mode": {
    "name": "ipython",
    "version": 3
   },
   "file_extension": ".py",
   "mimetype": "text/x-python",
   "name": "python",
   "nbconvert_exporter": "python",
   "pygments_lexer": "ipython3",
   "version": "3.12.8"
  }
 },
 "nbformat": 4,
 "nbformat_minor": 5
}
